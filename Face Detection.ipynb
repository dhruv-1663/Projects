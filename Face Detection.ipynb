{
 "cells": [
  {
   "cell_type": "code",
   "execution_count": 1,
   "id": "170324d3",
   "metadata": {},
   "outputs": [],
   "source": [
    "import cv2"
   ]
  },
  {
   "cell_type": "code",
   "execution_count": 2,
   "id": "866e4040",
   "metadata": {},
   "outputs": [],
   "source": [
    "# loading pre-trained data \n",
    "trained_data = cv2.CascadeClassifier('haarcascade_frontalface_default.xml')"
   ]
  },
  {
   "cell_type": "code",
   "execution_count": 3,
   "id": "870f0725",
   "metadata": {},
   "outputs": [],
   "source": [
    "# for image only\n",
    "img = cv2.imread('face2.jpg')\n",
    "cv2.imshow('Face',img)\n",
    "cv2.waitKey(0)\n",
    "cv2.destroyAllWindows()"
   ]
  },
  {
   "cell_type": "code",
   "execution_count": 4,
   "id": "641576f7",
   "metadata": {},
   "outputs": [],
   "source": [
    "# for an image only\n",
    "grayscaled_img = cv2.cvtColor(img,cv2.COLOR_RGB2GRAY)\n",
    "\n",
    "\n",
    "face_coordinates = trained_data.detectMultiScale(grayscaled_img)\n",
    "\n",
    "for (x,y,w,h) in face_coordinates:\n",
    "    cv2.rectangle(img,(x,y),((x+w),(y+h)),(0,0,255),1)\n",
    "\n",
    "cv2.imshow('Box',img)\n",
    "cv2.waitKey(0)\n",
    "cv2.destroyAllWindows()"
   ]
  },
  {
   "cell_type": "code",
   "execution_count": 4,
   "id": "31d0cee4",
   "metadata": {},
   "outputs": [],
   "source": [
    "# for webcam input\n",
    "\n",
    "webcam = cv2.VideoCapture(0)\n",
    "\n",
    "while True:\n",
    "    successful_read, frame = webcam.read()\n",
    "#   cv2.imshow('video',frame)\n",
    "#   cv2.waitKey(1)\n",
    "    grayscale_frame = cv2.cvtColor(frame,cv2.COLOR_RGB2GRAY)\n",
    "    face_coord = trained_data.detectMultiScale(grayscale_frame)\n",
    "    for(x,y,w,h) in face_coord:\n",
    "        cv2.rectangle(frame,(x,y),((x+w),(y+h)),(0,0,255),1)\n",
    "    \n",
    "    cv2.imshow('box_video',frame)\n",
    "    key = cv2.waitKey(1)\n",
    "    \n",
    "    if key == 88 or key == 120:\n",
    "        break\n",
    "    \n",
    "\n",
    "cv2.destroyAllWindows()\n",
    "webcam.release()"
   ]
  },
  {
   "cell_type": "code",
   "execution_count": null,
   "id": "9c86da4b",
   "metadata": {},
   "outputs": [],
   "source": [
    "# cv2.imshow('Gray',grayscaled_img)\n",
    "# cv2.waitKey(0)\n",
    "# cv2.destroyAllWindows()\n",
    "\n",
    "# print(face_coordinates)\n",
    "\n",
    "# x,y,w,h = face_coordinates[0]\n",
    "# print(x,y,w,h)\n",
    "# cv2.rectangle(img,(x,y),((x+w),(y+h)),(0,0,255),1)"
   ]
  }
 ],
 "metadata": {
  "kernelspec": {
   "display_name": "Python 3 (ipykernel)",
   "language": "python",
   "name": "python3"
  },
  "language_info": {
   "codemirror_mode": {
    "name": "ipython",
    "version": 3
   },
   "file_extension": ".py",
   "mimetype": "text/x-python",
   "name": "python",
   "nbconvert_exporter": "python",
   "pygments_lexer": "ipython3",
   "version": "3.9.12"
  }
 },
 "nbformat": 4,
 "nbformat_minor": 5
}
